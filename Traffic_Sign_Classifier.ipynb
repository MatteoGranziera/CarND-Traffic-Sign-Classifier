{
 "cells": [
  {
   "cell_type": "markdown",
   "metadata": {},
   "source": [
    "# Self-Driving Car Engineer Nanodegree\n",
    "\n",
    "## Deep Learning\n",
    "\n",
    "## Project: Build a Traffic Sign Recognition Classifier\n",
    "\n",
    "In this notebook, a template is provided for you to implement your functionality in stages, which is required to successfully complete this project. If additional code is required that cannot be included in the notebook, be sure that the Python code is successfully imported and included in your submission if necessary. \n",
    "\n",
    "> **Note**: Once you have completed all of the code implementations, you need to finalize your work by exporting the iPython Notebook as an HTML document. Before exporting the notebook to html, all of the code cells need to have been run so that reviewers can see the final implementation and output. You can then export the notebook by using the menu above and navigating to  \\n\",\n",
    "    \"**File -> Download as -> HTML (.html)**. Include the finished document along with this notebook as your submission. \n",
    "\n",
    "In addition to implementing code, there is a writeup to complete. The writeup should be completed in a separate file, which can be either a markdown file or a pdf document. There is a [write up template](https://github.com/udacity/CarND-Traffic-Sign-Classifier-Project/blob/master/writeup_template.md) that can be used to guide the writing process. Completing the code template and writeup template will cover all of the [rubric points](https://review.udacity.com/#!/rubrics/481/view) for this project.\n",
    "\n",
    "The [rubric](https://review.udacity.com/#!/rubrics/481/view) contains \"Stand Out Suggestions\" for enhancing the project beyond the minimum requirements. The stand out suggestions are optional. If you decide to pursue the \"stand out suggestions\", you can include the code in this Ipython notebook and also discuss the results in the writeup file.\n",
    "\n",
    "\n",
    ">**Note:** Code and Markdown cells can be executed using the **Shift + Enter** keyboard shortcut. In addition, Markdown cells can be edited by typically double-clicking the cell to enter edit mode."
   ]
  },
  {
   "cell_type": "markdown",
   "metadata": {},
   "source": [
    "---\n",
    "##  Download Data\n",
    "\n",
    "### Run this code only one time to download training data"
   ]
  },
  {
   "cell_type": "markdown",
   "metadata": {},
   "source": [
    "```from helpers import download\n",
    "from helpers import unzip\n",
    "\n",
    "download_path = 'data/'\n",
    "\n",
    "dataset_url = 'https://s3-us-west-1.amazonaws.com/udacity-selfdrivingcar/traffic-signs-data.zip'\n",
    "dataset_filename = download_path + 'traffic-signs-data.zip'\n",
    "\n",
    "download(dataset_url, dataset_filename)\n",
    "unzip(dataset_filename, download_path)\n",
    "```\n"
   ]
  },
  {
   "cell_type": "markdown",
   "metadata": {},
   "source": [
    "---\n",
    "## Step 0: Load The Data"
   ]
  },
  {
   "cell_type": "code",
   "execution_count": 2,
   "metadata": {},
   "outputs": [],
   "source": [
    "# Load pickled data\n",
    "import pickle\n",
    "\n",
    "# Fill this in based on where you saved the training and testing data\n",
    "download_path = '../data/'\n",
    "\n",
    "training_file = download_path + 'train.p'\n",
    "validation_file= download_path + 'valid.p'\n",
    "testing_file = download_path + 'test.p'\n",
    "\n",
    "with open(training_file, mode='rb') as f:\n",
    "    train = pickle.load(f)\n",
    "with open(validation_file, mode='rb') as f:\n",
    "    valid = pickle.load(f)\n",
    "with open(testing_file, mode='rb') as f:\n",
    "    test = pickle.load(f)\n",
    "    \n",
    "X_train, y_train = train['features'], train['labels']\n",
    "X_valid, y_valid = valid['features'], valid['labels']\n",
    "X_test, y_test = test['features'], test['labels']"
   ]
  },
  {
   "cell_type": "markdown",
   "metadata": {},
   "source": [
    "---\n",
    "\n",
    "## Step 1: Dataset Summary & Exploration\n",
    "\n",
    "The pickled data is a dictionary with 4 key/value pairs:\n",
    "\n",
    "- `'features'` is a 4D array containing raw pixel data of the traffic sign images, (num examples, width, height, channels).\n",
    "- `'labels'` is a 1D array containing the label/class id of the traffic sign. The file `signnames.csv` contains id -> name mappings for each id.\n",
    "- `'sizes'` is a list containing tuples, (width, height) representing the original width and height the image.\n",
    "- `'coords'` is a list containing tuples, (x1, y1, x2, y2) representing coordinates of a bounding box around the sign in the image. **THESE COORDINATES ASSUME THE ORIGINAL IMAGE. THE PICKLED DATA CONTAINS RESIZED VERSIONS (32 by 32) OF THESE IMAGES**\n",
    "\n",
    "Complete the basic data summary below. Use python, numpy and/or pandas methods to calculate the data summary rather than hard coding the results. For example, the [pandas shape method](http://pandas.pydata.org/pandas-docs/stable/generated/pandas.DataFrame.shape.html) might be useful for calculating some of the summary results. "
   ]
  },
  {
   "cell_type": "markdown",
   "metadata": {},
   "source": [
    "### Provide a Basic Summary of the Data Set Using Python, Numpy and/or Pandas"
   ]
  },
  {
   "cell_type": "code",
   "execution_count": 3,
   "metadata": {},
   "outputs": [
    {
     "name": "stdout",
     "output_type": "stream",
     "text": [
      "Number of training examples = 34799\n",
      "Number of validation examples = 4410\n",
      "Number of testing examples = 12630\n",
      "Image data shape = (32, 32, 3)\n",
      "Number of classes = 43\n"
     ]
    }
   ],
   "source": [
    "### Replace each question mark with the appropriate value. \n",
    "### Use python, pandas or numpy methods rather than hard coding the results\n",
    "import numpy as np\n",
    "import pandas as pd\n",
    "\n",
    "# Number of training examples\n",
    "n_train = len(X_train)\n",
    "\n",
    "# Number of validation examples\n",
    "n_validation = len(X_valid)\n",
    "\n",
    "# Number of testing examples.\n",
    "n_test = len(X_test)\n",
    "\n",
    "# What's the shape of an traffic sign image?\n",
    "image_shape = X_train.shape[1:]\n",
    "\n",
    "# How many unique classes/labels there are in the dataset.\n",
    "df = pd.read_csv('signnames.csv', delimiter=',')\n",
    "csv_data = df.values\n",
    "classes = [[i, name] for i, name in csv_data]\n",
    "\n",
    "items_classes = np.bincount(y_train)\n",
    "n_classes = len(classes)\n",
    "\n",
    "print(\"Number of training examples =\", n_train)\n",
    "print(\"Number of validation examples =\", n_validation)\n",
    "print(\"Number of testing examples =\", n_test)\n",
    "print(\"Image data shape =\", image_shape)\n",
    "print(\"Number of classes =\", n_classes)"
   ]
  },
  {
   "cell_type": "code",
   "execution_count": 4,
   "metadata": {},
   "outputs": [
    {
     "data": {
      "image/png": "[encoded data removed]",
      "text/plain": [
       "<matplotlib.figure.Figure at 0x7f64880e8080>"
      ]
     },
     "metadata": {
      "needs_background": "light"
     },
     "output_type": "display_data"
    }
   ],
   "source": [
    "import matplotlib.pyplot as plt\n",
    "\n",
    "# Visualizations will be shown in the notebook.\n",
    "%matplotlib inline\n",
    "\n",
    "plt.figure(figsize=(20,5)) \n",
    "plt.hist(y_train, bins=n_classes, rwidth=0.9);\n",
    "plt.xticks(range(n_classes))\n",
    "plt.xlabel('Classes')\n",
    "plt.ylabel('Samples')\n",
    "plt.title('How many samples has each class?')\n",
    "plt.grid()\n",
    "plt.show()"
   ]
  },
  {
   "cell_type": "markdown",
   "metadata": {},
   "source": [
    "### Include an exploratory visualization of the dataset"
   ]
  },
  {
   "cell_type": "markdown",
   "metadata": {},
   "source": [
    "Visualize the German Traffic Signs Dataset using the pickled file(s). This is open ended, suggestions include: plotting traffic sign images, plotting the count of each sign, etc. \n",
    "\n",
    "The [Matplotlib](http://matplotlib.org/) [examples](http://matplotlib.org/examples/index.html) and [gallery](http://matplotlib.org/gallery.html) pages are a great resource for doing visualizations in Python.\n",
    "\n",
    "**NOTE:** It's recommended you start with something simple first. If you wish to do more, come back to it after you've completed the rest of the sections. It can be interesting to look at the distribution of classes in the training, validation and test set. Is the distribution the same? Are there more examples of some classes than others?"
   ]
  },
  {
   "cell_type": "code",
   "execution_count": 5,
   "metadata": {},
   "outputs": [
    {
     "name": "stdout",
     "output_type": "stream",
     "text": [
      "[8, 'Speed limit (120km/h)']\n"
     ]
    },
    {
     "data": {
      "image/png": "[encoded data removed]",
      "text/plain": [
       "<matplotlib.figure.Figure at 0x7f64880e8048>"
      ]
     },
     "metadata": {
      "needs_background": "light"
     },
     "output_type": "display_data"
    }
   ],
   "source": [
    "\n",
    "### Data exploration visualization code goes here.\n",
    "### Feel free to use as many code cells as needed.\n",
    "import random\n",
    "\n",
    "index = random.randint(0, len(X_train))\n",
    "image = X_train[index].squeeze()\n",
    "\n",
    "plt.figure(figsize=(1,1))\n",
    "plt.imshow(image, cmap=\"gray\")\n",
    "print(classes[y_train[index]])\n"
   ]
  },
  {
   "cell_type": "markdown",
   "metadata": {},
   "source": [
    "----\n",
    "\n",
    "## Step 2: Design and Test a Model Architecture\n",
    "\n",
    "Design and implement a deep learning model that learns to recognize traffic signs. Train and test your model on the [German Traffic Sign Dataset](http://benchmark.ini.rub.de/?section=gtsrb&subsection=dataset).\n",
    "\n",
    "The LeNet-5 implementation shown in the [classroom](https://classroom.udacity.com/nanodegrees/nd013/parts/fbf77062-5703-404e-b60c-95b78b2f3f9e/modules/6df7ae49-c61c-4bb2-a23e-6527e69209ec/lessons/601ae704-1035-4287-8b11-e2c2716217ad/concepts/d4aca031-508f-4e0b-b493-e7b706120f81) at the end of the CNN lesson is a solid starting point. You'll have to change the number of classes and possibly the preprocessing, but aside from that it's plug and play! \n",
    "\n",
    "With the LeNet-5 solution from the lecture, you should expect a validation set accuracy of about 0.89. To meet specifications, the validation set accuracy will need to be at least 0.93. It is possible to get an even higher accuracy, but 0.93 is the minimum for a successful project submission. \n",
    "\n",
    "There are various aspects to consider when thinking about this problem:\n",
    "\n",
    "- Neural network architecture (is the network over or underfitting?)\n",
    "- Play around preprocessing techniques (normalization, rgb to grayscale, etc)\n",
    "- Number of examples per label (some have more than others).\n",
    "- Generate fake data.\n",
    "\n",
    "Here is an example of a [published baseline model on this problem](http://yann.lecun.com/exdb/publis/pdf/sermanet-ijcnn-11.pdf). It's not required to be familiar with the approach used in the paper but, it's good practice to try to read papers like these."
   ]
  },
  {
   "cell_type": "markdown",
   "metadata": {},
   "source": [
    "### Pre-process the Data Set (normalization, grayscale, etc.)"
   ]
  },
  {
   "cell_type": "markdown",
   "metadata": {},
   "source": [
    "Minimally, the image data should be normalized so that the data has mean zero and equal variance. For image data, `(pixel - 128)/ 128` is a quick way to approximately normalize the data and can be used in this project. \n",
    "\n",
    "Other pre-processing steps are optional. You can try different techniques to see if it improves performance. \n",
    "\n",
    "Use the code cell (or multiple code cells, if necessary) to implement the first step of your project."
   ]
  },
  {
   "cell_type": "code",
   "execution_count": 6,
   "metadata": {},
   "outputs": [],
   "source": [
    "### Preprocess the data here. It is required to normalize the data. Other preprocessing steps could include \n",
    "### converting to grayscale, etc.\n",
    "### Feel free to use as many code cells as needed.\n",
    "import cv2\n",
    "from tqdm import tqdm"
   ]
  },
  {
   "cell_type": "markdown",
   "metadata": {},
   "source": [
    "#### Convert to grayscale"
   ]
  },
  {
   "cell_type": "code",
   "execution_count": 7,
   "metadata": {},
   "outputs": [
    {
     "name": "stdout",
     "output_type": "stream",
     "text": [
      "train shape:  (32, 32, 1)\n",
      "valid shape:  (32, 32, 1)\n",
      "test shape:  (32, 32, 1)\n"
     ]
    },
    {
     "data": {
      "image/png": "[encoded data removed]",
      "text/plain": [
       "<matplotlib.figure.Figure at 0x7f644759deb8>"
      ]
     },
     "metadata": {
      "needs_background": "light"
     },
     "output_type": "display_data"
    }
   ],
   "source": [
    "def preProcess(img):\n",
    "    # increase brightness and contrast\n",
    "    gray = cv2.cvtColor(img, cv2.COLOR_RGB2GRAY)\n",
    "    \n",
    "    gray = np.int16(gray)\n",
    "    \n",
    "    # Normalize\n",
    "    gray = (gray - 128) / 128\n",
    "    img = gray[..., None]\n",
    "    \n",
    "    return img\n",
    "\n",
    "index = random.randint(0, len(X_train))\n",
    "img = preProcess(X_train[index])\n",
    "ig, ((ax1, ax2)) = plt.subplots(1, 2, figsize=(2,2))\n",
    "ax1.imshow(X_train[index])\n",
    "ax2.imshow(img[:,:,0], cmap='gray')\n",
    "\n",
    "# Train data\n",
    "train_normalized = [preProcess(rgb) for rgb in X_train]\n",
    "validation_normalized = [preProcess(rgb) for rgb in X_valid]\n",
    "test_normalized = [preProcess(rgb) for rgb in X_test]\n",
    "\n",
    "print('train shape: ', train_normalized[0].shape)\n",
    "print('valid shape: ', validation_normalized[0].shape)\n",
    "print('test shape: ', test_normalized[0].shape)\n"
   ]
  },
  {
   "cell_type": "markdown",
   "metadata": {},
   "source": [
    "### Model Architecture"
   ]
  },
  {
   "cell_type": "code",
   "execution_count": 8,
   "metadata": {},
   "outputs": [],
   "source": [
    "### Define your architecture here.\n",
    "### Feel free to use as many code cells as needed.\n",
    "import tensorflow as tf\n",
    "from tensorflow.contrib.layers import flatten\n",
    "\n",
    "EPOCHS = 30\n",
    "BATCH_SIZE = 128\n",
    "\n",
    "mu = 0\n",
    "sigma = 0.1\n",
    "\n",
    "x = tf.placeholder(tf.float32, (None, 32, 32, 1))\n",
    "y = tf.placeholder(tf.int32, (None))\n",
    "training_flag = tf.placeholder(tf.bool)\n",
    "one_hot_y = tf.one_hot(y, n_classes)"
   ]
  },
  {
   "cell_type": "code",
   "execution_count": 9,
   "metadata": {},
   "outputs": [],
   "source": [
    "def cov2d_layer(inputs, fshape):\n",
    "    shape = tf.constant(fshape)\n",
    "    \n",
    "    cov_W = tf.Variable(tf.truncated_normal(shape=shape, mean=mu, stddev=sigma))\n",
    "    cov_b = tf.Variable(tf.zeros([fshape[3]]))\n",
    "\n",
    "    cov = tf.nn.conv2d(inputs, cov_W, strides=[1, 1, 1, 1], padding='VALID')\n",
    "    cov = tf.nn.bias_add(cov, cov_b)\n",
    "    \n",
    "    return cov\n",
    "\n",
    "def covNetSequence(inputs, fshape, is_training):\n",
    "    # Convolutional.\n",
    "    cov = cov2d_layer(inputs, fshape)\n",
    "\n",
    "    # Activation.\n",
    "    cov = tf.nn.relu(cov)\n",
    "    \n",
    "    #Dropout. (Only during training)\n",
    "    cov = tf.cond(is_training, lambda: tf.nn.dropout(cov, keep_prob=0.8), lambda: cov)\n",
    "\n",
    "    # Pooling.\n",
    "    max_pool = tf.nn.max_pool(\n",
    "        cov,\n",
    "        ksize=[1, 2, 2, 1],\n",
    "        strides=[1, 2, 2, 1],\n",
    "        padding='VALID')\n",
    "    \n",
    "    return cov, max_pool\n",
    "    \n",
    "def net(x):\n",
    "    # Layer 1-2-3: Convolutional - Activation -  Max Pooling. Input = 32x32x1. -> 28x28x16 -> Output = 14x14x16.\n",
    "    _, max_ch1 = covNetSequence(x, (5, 5, 1, 16), training_flag)\n",
    "\n",
    "    # Layer 4-5-6: Convolutional - Activation - Max Pooling. Input = 14x14x16 -> 10x10x64 Output = 5x5x64.\n",
    "    _, max_ch1 = covNetSequence(max_ch1, (5, 5, int(max_ch1.shape[3]), 64), training_flag)\n",
    "    \n",
    "    # Layer 7-8-9: Convolutional - Activation - Max Pooling. Input = 5x5x64 -> 4x4x120 Output = 2x2x120.\n",
    "    _, max_ch1 = covNetSequence(max_ch1, (2, 2, int(max_ch1.shape[3]), 120), training_flag)\n",
    "\n",
    "    # Layer 10: Flatten. Input = 2x2x120. Output = 480.\n",
    "    flat = flatten(max_ch1)\n",
    "    \n",
    "    # Layer 11: Fully Connected. Input = 480. Output = 120.\n",
    "    full_W = tf.Variable(tf.truncated_normal((int(flat.shape[1]), 120)))\n",
    "    full_b = tf.Variable(tf.zeros(120))\n",
    "\n",
    "    full = tf.matmul(flat, full_W) + full_b\n",
    "\n",
    "    # Layer 12: Activation.\n",
    "    full = tf.nn.relu(full)\n",
    "    \n",
    "    # Dropout. (Only during training)\n",
    "    drop = tf.cond(training_flag, lambda: tf.nn.dropout(full, keep_prob=0.8), lambda: full)\n",
    "\n",
    "    # Layer 13: Fully Connected. Input = 120. Output = 43.\n",
    "    full_W = tf.Variable(tf.truncated_normal((int(drop.shape[1]), n_classes)))\n",
    "    full_b = tf.Variable(tf.zeros(n_classes))\n",
    "\n",
    "    logits = tf.matmul(drop, full_W) + full_b\n",
    "    \n",
    "    return logits"
   ]
  },
  {
   "cell_type": "markdown",
   "metadata": {},
   "source": [
    "### Train, Validate and Test the Model"
   ]
  },
  {
   "cell_type": "markdown",
   "metadata": {},
   "source": [
    "A validation set can be used to assess how well the model is performing. A low accuracy on the training and validation\n",
    "sets imply underfitting. A high accuracy on the training set but low accuracy on the validation set implies overfitting."
   ]
  },
  {
   "cell_type": "code",
   "execution_count": 10,
   "metadata": {},
   "outputs": [],
   "source": [
    "### Train your model here.\n",
    "### Calculate and report the accuracy on the training and validation set.\n",
    "### Once a final model architecture is selected, \n",
    "### the accuracy on the test set should be calculated and reported as well.\n",
    "### Feel free to use as many code cells as needed.\n",
    "\n",
    "from sklearn.utils import shuffle\n",
    "\n",
    "rate = 0.001\n",
    "logits = net(x)\n",
    "cross_entropy = tf.nn.softmax_cross_entropy_with_logits(labels=one_hot_y, logits=logits)\n",
    "loss_operation = tf.reduce_mean(cross_entropy)\n",
    "optimizer = tf.train.AdamOptimizer(learning_rate = rate)\n",
    "training_operation = optimizer.minimize(loss_operation)"
   ]
  },
  {
   "cell_type": "code",
   "execution_count": 11,
   "metadata": {},
   "outputs": [],
   "source": [
    "correct_prediction = tf.equal(tf.argmax(logits, 1), tf.argmax(one_hot_y, 1))\n",
    "accuracy_operation = tf.reduce_mean(tf.cast(correct_prediction, tf.float32))\n",
    "saver = tf.train.Saver()\n",
    "\n",
    "def evaluate(X_data, y_data):\n",
    "    num_examples = len(X_data)\n",
    "    total_accuracy = 0\n",
    "    sess = tf.get_default_session()\n",
    "    for offset in range(0, num_examples, BATCH_SIZE):\n",
    "        batch_x, batch_y = X_data[offset:offset+BATCH_SIZE], y_data[offset:offset+BATCH_SIZE]\n",
    "        accuracy = sess.run(accuracy_operation, feed_dict={x: batch_x, y: batch_y, training_flag: False})\n",
    "        total_accuracy += (accuracy * len(batch_x))\n",
    "    return total_accuracy / num_examples"
   ]
  },
  {
   "cell_type": "code",
   "execution_count": 11,
   "metadata": {},
   "outputs": [
    {
     "name": "stdout",
     "output_type": "stream",
     "text": [
      "Training...\n",
      "\n",
      "EPOCH 1 ...\n",
      "Validation Accuracy = 0.168\n",
      "\n",
      "EPOCH 2 ...\n",
      "Validation Accuracy = 0.320\n",
      "\n",
      "EPOCH 3 ...\n",
      "Validation Accuracy = 0.486\n",
      "\n",
      "EPOCH 4 ...\n",
      "Validation Accuracy = 0.600\n",
      "\n",
      "EPOCH 5 ...\n",
      "Validation Accuracy = 0.712\n",
      "\n",
      "EPOCH 6 ...\n",
      "Validation Accuracy = 0.790\n",
      "\n",
      "EPOCH 7 ...\n",
      "Validation Accuracy = 0.824\n",
      "\n",
      "EPOCH 8 ...\n",
      "Validation Accuracy = 0.837\n",
      "\n",
      "EPOCH 9 ...\n",
      "Validation Accuracy = 0.866\n",
      "\n",
      "EPOCH 10 ...\n",
      "Validation Accuracy = 0.861\n",
      "\n",
      "EPOCH 11 ...\n",
      "Validation Accuracy = 0.894\n",
      "\n",
      "EPOCH 12 ...\n",
      "Validation Accuracy = 0.903\n",
      "\n",
      "EPOCH 13 ...\n",
      "Validation Accuracy = 0.907\n",
      "\n",
      "EPOCH 14 ...\n",
      "Validation Accuracy = 0.905\n",
      "\n",
      "EPOCH 15 ...\n",
      "Validation Accuracy = 0.919\n",
      "\n",
      "EPOCH 16 ...\n",
      "Validation Accuracy = 0.918\n",
      "\n",
      "EPOCH 17 ...\n",
      "Validation Accuracy = 0.919\n",
      "\n",
      "EPOCH 18 ...\n",
      "Validation Accuracy = 0.931\n",
      "\n",
      "EPOCH 19 ...\n",
      "Validation Accuracy = 0.932\n",
      "\n",
      "EPOCH 20 ...\n",
      "Validation Accuracy = 0.936\n",
      "\n",
      "EPOCH 21 ...\n",
      "Validation Accuracy = 0.943\n",
      "\n",
      "EPOCH 22 ...\n",
      "Validation Accuracy = 0.929\n",
      "\n",
      "EPOCH 23 ...\n",
      "Validation Accuracy = 0.934\n",
      "\n",
      "EPOCH 24 ...\n",
      "Validation Accuracy = 0.933\n",
      "\n",
      "EPOCH 25 ...\n",
      "Validation Accuracy = 0.951\n",
      "\n",
      "EPOCH 26 ...\n",
      "Validation Accuracy = 0.945\n",
      "\n",
      "EPOCH 27 ...\n",
      "Validation Accuracy = 0.938\n",
      "\n",
      "EPOCH 28 ...\n",
      "Validation Accuracy = 0.962\n",
      "\n",
      "EPOCH 29 ...\n",
      "Validation Accuracy = 0.943\n",
      "\n",
      "EPOCH 30 ...\n",
      "Validation Accuracy = 0.947\n",
      "\n",
      "Model saved\n"
     ]
    }
   ],
   "source": [
    "with tf.Session() as sess:\n",
    "    sess.run(tf.global_variables_initializer())\n",
    "    num_examples = len(X_train)\n",
    "    \n",
    "    print(\"Training...\")\n",
    "    print()\n",
    "    for i in range(EPOCHS):\n",
    "        X_shuffled, y_shuffled = shuffle(train_normalized, y_train)\n",
    "        for offset in range(0, num_examples, BATCH_SIZE):\n",
    "            end = offset + BATCH_SIZE\n",
    "            batch_x, batch_y = X_shuffled[offset:end], y_shuffled[offset:end]\n",
    "            sess.run(training_operation, feed_dict={x: batch_x, y: batch_y, training_flag: True})\n",
    "            \n",
    "        validation_accuracy = evaluate(validation_normalized, y_valid)\n",
    "        print(\"EPOCH {} ...\".format(i+1))\n",
    "        print(\"Validation Accuracy = {:.3f}\".format(validation_accuracy))\n",
    "        print()\n",
    "        \n",
    "    saver.save(sess, './lenet')\n",
    "    print(\"Model saved\")"
   ]
  },
  {
   "cell_type": "markdown",
   "metadata": {},
   "source": [
    "### Load and test"
   ]
  },
  {
   "cell_type": "code",
   "execution_count": 12,
   "metadata": {},
   "outputs": [
    {
     "name": "stdout",
     "output_type": "stream",
     "text": [
      "INFO:tensorflow:Restoring parameters from ./lenet\n",
      "Test...\n",
      "Training Accuracy = 0.996\n",
      "Validation Accuracy = 0.947\n",
      "Test Accuracy = 0.944\n",
      "\n"
     ]
    }
   ],
   "source": [
    "\n",
    "with tf.Session() as sess:\n",
    "    \n",
    "    saver.restore(sess, tf.train.latest_checkpoint('.'))\n",
    "    print(\"Test...\")  \n",
    "    \n",
    "    traning_accuracy = evaluate(train_normalized, y_train)\n",
    "    validation_accuracy = evaluate(validation_normalized, y_valid)\n",
    "    test_accuracy = evaluate(test_normalized, y_test)\n",
    "    print(\"Training Accuracy = {:.3f}\".format(traning_accuracy))\n",
    "    print(\"Validation Accuracy = {:.3f}\".format(validation_accuracy))\n",
    "    print(\"Test Accuracy = {:.3f}\".format(test_accuracy))\n",
    "    print()"
   ]
  },
  {
   "cell_type": "markdown",
   "metadata": {},
   "source": [
    "---\n",
    "\n",
    "## Step 3: Test a Model on New Images\n",
    "\n",
    "To give yourself more insight into how your model is working, download at least five pictures of German traffic signs from the web and use your model to predict the traffic sign type.\n",
    "\n",
    "You may find `signnames.csv` useful as it contains mappings from the class id (integer) to the actual sign name."
   ]
  },
  {
   "cell_type": "markdown",
   "metadata": {},
   "source": [
    "### Load and Output the Images"
   ]
  },
  {
   "cell_type": "code",
   "execution_count": 13,
   "metadata": {},
   "outputs": [],
   "source": [
    "### Load the images and plot them here.\n",
    "### Feel free to use as many code cells as needed.\n"
   ]
  },
  {
   "cell_type": "code",
   "execution_count": null,
   "metadata": {},
   "outputs": [],
   "source": [
    "# from PIL import Image\n",
    "# img = Image.open('test_images/5.png').convert('RGB')\n",
    "# img.save('test_images/5.jpg', 'jpeg')"
   ]
  },
  {
   "cell_type": "markdown",
   "metadata": {},
   "source": [
    "### Load images\n",
    "\n",
    "all images are in `test_images` folder and are listes into `images.csv` file with each label"
   ]
  },
  {
   "cell_type": "code",
   "execution_count": 24,
   "metadata": {},
   "outputs": [
    {
     "data": {
      "image/png": "[encoded data removed]",
      "text/plain": [
       "<matplotlib.figure.Figure at 0x7f64353d55c0>"
      ]
     },
     "metadata": {
      "needs_background": "light"
     },
     "output_type": "display_data"
    }
   ],
   "source": [
    "test_img_root = 'test_images/'\n",
    "# csv_data = pd.genfromtxt(, delimiter=',', skip_header=1, dtype=(str, int, str))\n",
    "df = pd.read_csv(test_img_root + 'images.csv', delimiter=',')\n",
    "csv_data = df.values\n",
    "\n",
    "test_images = []\n",
    "test_labels = []\n",
    "\n",
    "for name, lb_index, desc in csv_data:\n",
    "    img = plt.imread(test_img_root + name)\n",
    "    test_images.append(img)\n",
    "    test_labels.append([lb_index, desc])\n",
    "\n",
    "def show_images(images):\n",
    "    n: int = len(images)\n",
    "    f = plt.figure()\n",
    "    for i in range(n):\n",
    "        # Debug, plot figure\n",
    "        f.add_subplot(1, n, i + 1)\n",
    "        if(images[i].shape[2] == 1):\n",
    "            plt.imshow(images[i], cmap='gray')\n",
    "        else:\n",
    "            plt.imshow(images[i])\n",
    "\n",
    "    plt.show(block=True)\n",
    "    \n",
    "show_images(test_images)\n",
    "\n",
    "true_classes = np.asarray([[l[0], l[1]] for l in test_labels])\n",
    "  "
   ]
  },
  {
   "cell_type": "code",
   "execution_count": 25,
   "metadata": {},
   "outputs": [
    {
     "data": {
      "image/png": "[encoded data removed]",
      "text/plain": [
       "<matplotlib.figure.Figure at 0x7f64353c4128>"
      ]
     },
     "metadata": {
      "needs_background": "light"
     },
     "output_type": "display_data"
    }
   ],
   "source": [
    "def crop(img):\n",
    "    height, width, channels = img.shape\n",
    "    x = height if height > width else width\n",
    "    y = height if height > width else width\n",
    "    square= np.zeros((x,y,3), np.uint8)\n",
    "    square[int((y-height)/2):int(y-(y-height)/2), int((x-width)/2):int(x-(x-width)/2)] = img\n",
    "    return square\n",
    "\n",
    "cropped_images = [crop(img) for img in test_images]\n",
    "\n",
    "show_images(cropped_images)"
   ]
  },
  {
   "cell_type": "code",
   "execution_count": 26,
   "metadata": {},
   "outputs": [
    {
     "data": {
      "image/png": "[encoded data removed]",
      "text/plain": [
       "<matplotlib.figure.Figure at 0x7f64352d3358>"
      ]
     },
     "metadata": {
      "needs_background": "light"
     },
     "output_type": "display_data"
    }
   ],
   "source": [
    "def resize(img):\n",
    "    resize = cv2.resize(img, dsize=(32, 32), interpolation=cv2.INTER_CUBIC)\n",
    "    return resize\n",
    "\n",
    "resized_images = [resize(img) for img in cropped_images]\n",
    "\n",
    "show_images(resized_images)"
   ]
  },
  {
   "cell_type": "code",
   "execution_count": 34,
   "metadata": {},
   "outputs": [],
   "source": [
    "processed_images = [np.asarray(preProcess(img)) for img in resized_images]"
   ]
  },
  {
   "cell_type": "code",
   "execution_count": 29,
   "metadata": {},
   "outputs": [
    {
     "name": "stdout",
     "output_type": "stream",
     "text": [
      "[0, 'Speed limit (20km/h)']\n"
     ]
    }
   ],
   "source": [
    "print(classes[0])"
   ]
  },
  {
   "cell_type": "markdown",
   "metadata": {},
   "source": [
    "### Predict the Sign Type for Each Image"
   ]
  },
  {
   "cell_type": "code",
   "execution_count": 30,
   "metadata": {},
   "outputs": [
    {
     "name": "stdout",
     "output_type": "stream",
     "text": [
      "INFO:tensorflow:Restoring parameters from ./lenet\n",
      "TopKV2(values=array([[1.000000, 0.000000, 0.000000, 0.000000, 0.000000],\n",
      "       [0.980943, 0.018293, 0.000228, 0.000171, 0.000110],\n",
      "       [1.000000, 0.000000, 0.000000, 0.000000, 0.000000],\n",
      "       [0.999971, 0.000023, 0.000002, 0.000001, 0.000001],\n",
      "       [0.962947, 0.034291, 0.002512, 0.000216, 0.000009]], dtype=float32), indices=array([[13, 15,  2,  5,  0],\n",
      "       [38, 13,  6, 23, 40],\n",
      "       [25, 28, 29, 38, 20],\n",
      "       [17, 32, 34,  8,  7],\n",
      "       [ 1,  2,  0, 13,  5]], dtype=int32))\n"
     ]
    }
   ],
   "source": [
    "np.set_printoptions(formatter={'float_kind':'{:f}'.format})\n",
    "\n",
    "with tf.Session() as sess:\n",
    "    saver.restore(sess, tf.train.latest_checkpoint('.'))\n",
    "    relu = tf.nn.relu(logits)\n",
    "    softmax = tf.nn.softmax(relu)\n",
    "#     predicted_indices = tf.argmax(softmax, 1)\n",
    "    top_5 = tf.nn.top_k(softmax, 5)    \n",
    "    result_imgs = sess.run(top_5, feed_dict={x: processed_images, training_flag: False})\n",
    "        \n",
    "    print(result_imgs)"
   ]
  },
  {
   "cell_type": "code",
   "execution_count": 31,
   "metadata": {},
   "outputs": [
    {
     "name": "stdout",
     "output_type": "stream",
     "text": [
      "[[[1.000000 0.000000 0.000000 0.000000 0.000000]\n",
      "  [0.980943 0.018293 0.000228 0.000171 0.000110]\n",
      "  [1.000000 0.000000 0.000000 0.000000 0.000000]\n",
      "  [0.999971 0.000023 0.000002 0.000001 0.000001]\n",
      "  [0.962947 0.034291 0.002512 0.000216 0.000009]]\n",
      "\n",
      " [[13.000000 15.000000 2.000000 5.000000 0.000000]\n",
      "  [38.000000 13.000000 6.000000 23.000000 40.000000]\n",
      "  [25.000000 28.000000 29.000000 38.000000 20.000000]\n",
      "  [17.000000 32.000000 34.000000 8.000000 7.000000]\n",
      "  [1.000000 2.000000 0.000000 13.000000 5.000000]]]\n"
     ]
    }
   ],
   "source": [
    "print(np.asarray(result_imgs))\n",
    "\n",
    "# for i in range(len(result)):\n",
    "#         print('Predicted ', result[i], ' -> correct ', true_classes[i])    \n",
    "        "
   ]
  },
  {
   "cell_type": "markdown",
   "metadata": {},
   "source": [
    "### Analyze Performance"
   ]
  },
  {
   "cell_type": "code",
   "execution_count": 32,
   "metadata": {},
   "outputs": [
    {
     "name": "stdout",
     "output_type": "stream",
     "text": [
      "Accuracy:  100.0 %\n"
     ]
    }
   ],
   "source": [
    "### Calculate the accuracy for these 5 new images. \n",
    "### For example, if the model predicted 1 out of 5 signs correctly, it's 20% accurate on these new images.\n",
    "count = 0\n",
    "\n",
    "for i in range(len(result_imgs.values)):\n",
    "    index = result_imgs.indices[i, 0]\n",
    "    count+= 1 if index == int(true_classes[i,0]) else 0\n",
    "\n",
    "accuracy = count/len(result_imgs.values) * 100\n",
    "print('Accuracy: ', accuracy, '%' )"
   ]
  },
  {
   "cell_type": "markdown",
   "metadata": {},
   "source": [
    "### Output Top 5 Softmax Probabilities For Each Image Found on the Web"
   ]
  },
  {
   "cell_type": "markdown",
   "metadata": {},
   "source": [
    "For each of the new images, print out the model's softmax probabilities to show the **certainty** of the model's predictions (limit the output to the top 5 probabilities for each image). [`tf.nn.top_k`](https://www.tensorflow.org/versions/r0.12/api_docs/python/nn.html#top_k) could prove helpful here. \n",
    "\n",
    "The example below demonstrates how tf.nn.top_k can be used to find the top k predictions for each image.\n",
    "\n",
    "`tf.nn.top_k` will return the values and indices (class ids) of the top k predictions. So if k=3, for each sign, it'll return the 3 largest probabilities (out of a possible 43) and the correspoding class ids.\n",
    "\n",
    "Take this numpy array as an example. The values in the array represent predictions. The array contains softmax probabilities for five candidate images with six possible classes. `tf.nn.top_k` is used to choose the three classes with the highest probability:\n",
    "\n",
    "```\n",
    "# (5, 6) array\n",
    "a = np.array([[ 0.24879643,  0.07032244,  0.12641572,  0.34763842,  0.07893497,\n",
    "         0.12789202],\n",
    "       [ 0.28086119,  0.27569815,  0.08594638,  0.0178669 ,  0.18063401,\n",
    "         0.15899337],\n",
    "       [ 0.26076848,  0.23664738,  0.08020603,  0.07001922,  0.1134371 ,\n",
    "         0.23892179],\n",
    "       [ 0.11943333,  0.29198961,  0.02605103,  0.26234032,  0.1351348 ,\n",
    "         0.16505091],\n",
    "       [ 0.09561176,  0.34396535,  0.0643941 ,  0.16240774,  0.24206137,\n",
    "         0.09155967]])\n",
    "```\n",
    "\n",
    "Running it through `sess.run(tf.nn.top_k(tf.constant(a), k=3))` produces:\n",
    "\n",
    "```\n",
    "TopKV2(values=array([[ 0.34763842,  0.24879643,  0.12789202],\n",
    "       [ 0.28086119,  0.27569815,  0.18063401],\n",
    "       [ 0.26076848,  0.23892179,  0.23664738],\n",
    "       [ 0.29198961,  0.26234032,  0.16505091],\n",
    "       [ 0.34396535,  0.24206137,  0.16240774]]), indices=array([[3, 0, 5],\n",
    "       [0, 1, 4],\n",
    "       [0, 5, 1],\n",
    "       [1, 3, 5],\n",
    "       [1, 4, 3]], dtype=int32))\n",
    "```\n",
    "\n",
    "Looking just at the first row we get `[ 0.34763842,  0.24879643,  0.12789202]`, you can confirm these are the 3 largest probabilities in `a`. You'll also notice `[3, 0, 5]` are the corresponding indices."
   ]
  },
  {
   "cell_type": "code",
   "execution_count": 33,
   "metadata": {},
   "outputs": [
    {
     "name": "stdout",
     "output_type": "stream",
     "text": [
      "Img N. 0\n",
      "\n",
      "| Probability | Prediction |\n",
      "| 1.000000   |  [13, 'Yield']\n",
      "| 0.000000   |  [15, 'No vehicles']\n",
      "| 0.000000   |  [2, 'Speed limit (50km/h)']\n",
      "| 0.000000   |  [5, 'Speed limit (80km/h)']\n",
      "| 0.000000   |  [0, 'Speed limit (20km/h)']\n",
      "\n",
      "Img N. 1\n",
      "\n",
      "| Probability | Prediction |\n",
      "| 0.980943   |  [38, 'Keep right']\n",
      "| 0.018293   |  [13, 'Yield']\n",
      "| 0.000228   |  [6, 'End of speed limit (80km/h)']\n",
      "| 0.000171   |  [23, 'Slippery road']\n",
      "| 0.000110   |  [40, 'Roundabout mandatory']\n",
      "\n",
      "Img N. 2\n",
      "\n",
      "| Probability | Prediction |\n",
      "| 1.000000   |  [25, 'Road work']\n",
      "| 0.000000   |  [28, 'Children crossing']\n",
      "| 0.000000   |  [29, 'Bicycles crossing']\n",
      "| 0.000000   |  [38, 'Keep right']\n",
      "| 0.000000   |  [20, 'Dangerous curve to the right']\n",
      "\n",
      "Img N. 3\n",
      "\n",
      "| Probability | Prediction |\n",
      "| 0.999971   |  [17, 'No entry']\n",
      "| 0.000023   |  [32, 'End of all speed and passing limits']\n",
      "| 0.000002   |  [34, 'Turn left ahead']\n",
      "| 0.000001   |  [8, 'Speed limit (120km/h)']\n",
      "| 0.000001   |  [7, 'Speed limit (100km/h)']\n",
      "\n",
      "Img N. 4\n",
      "\n",
      "| Probability | Prediction |\n",
      "| 0.962947   |  [1, 'Speed limit (30km/h)']\n",
      "| 0.034291   |  [2, 'Speed limit (50km/h)']\n",
      "| 0.002512   |  [0, 'Speed limit (20km/h)']\n",
      "| 0.000216   |  [13, 'Yield']\n",
      "| 0.000009   |  [5, 'Speed limit (80km/h)']\n",
      "\n"
     ]
    }
   ],
   "source": [
    "### Print out the top five softmax probabilities for the predictions on the German traffic sign images found on the web. \n",
    "### Feel free to use as many code cells as needed.\n",
    "\n",
    "for i in range(len(result_imgs.values)):\n",
    "    \n",
    "    print('Img N.', i)\n",
    "    print()\n",
    "    print('| Probability | Prediction |')\n",
    "    \n",
    "    for j in range(len(result_imgs.values[i])):\n",
    "        print(\"| {:.6f} \".format(result_imgs.values[i, j]), ' | ', classes[result_imgs.indices[i, j]])\n",
    "    \n",
    "    print()"
   ]
  },
  {
   "cell_type": "markdown",
   "metadata": {},
   "source": [
    "### Project Writeup\n",
    "\n",
    "Once you have completed the code implementation, document your results in a project writeup using this [template](https://github.com/udacity/CarND-Traffic-Sign-Classifier-Project/blob/master/writeup_template.md) as a guide. The writeup can be in a markdown or pdf file. "
   ]
  },
  {
   "cell_type": "markdown",
   "metadata": {},
   "source": [
    "> **Note**: Once you have completed all of the code implementations and successfully answered each question above, you may finalize your work by exporting the iPython Notebook as an HTML document. You can do this by using the menu above and navigating to  \\n\",\n",
    "    \"**File -> Download as -> HTML (.html)**. Include the finished document along with this notebook as your submission."
   ]
  },
  {
   "cell_type": "markdown",
   "metadata": {},
   "source": [
    "---\n",
    "\n",
    "## Step 4 (Optional): Visualize the Neural Network's State with Test Images\n",
    "\n",
    " This Section is not required to complete but acts as an additional excersise for understaning the output of a neural network's weights. While neural networks can be a great learning device they are often referred to as a black box. We can understand what the weights of a neural network look like better by plotting their feature maps. After successfully training your neural network you can see what it's feature maps look like by plotting the output of the network's weight layers in response to a test stimuli image. From these plotted feature maps, it's possible to see what characteristics of an image the network finds interesting. For a sign, maybe the inner network feature maps react with high activation to the sign's boundary outline or to the contrast in the sign's painted symbol.\n",
    "\n",
    " Provided for you below is the function code that allows you to get the visualization output of any tensorflow weight layer you want. The inputs to the function should be a stimuli image, one used during training or a new one you provided, and then the tensorflow variable name that represents the layer's state during the training process, for instance if you wanted to see what the [LeNet lab's](https://classroom.udacity.com/nanodegrees/nd013/parts/fbf77062-5703-404e-b60c-95b78b2f3f9e/modules/6df7ae49-c61c-4bb2-a23e-6527e69209ec/lessons/601ae704-1035-4287-8b11-e2c2716217ad/concepts/d4aca031-508f-4e0b-b493-e7b706120f81) feature maps looked like for it's second convolutional layer you could enter conv2 as the tf_activation variable.\n",
    "\n",
    "For an example of what feature map outputs look like, check out NVIDIA's results in their paper [End-to-End Deep Learning for Self-Driving Cars](https://devblogs.nvidia.com/parallelforall/deep-learning-self-driving-cars/) in the section Visualization of internal CNN State. NVIDIA was able to show that their network's inner weights had high activations to road boundary lines by comparing feature maps from an image with a clear path to one without. Try experimenting with a similar test to show that your trained network's weights are looking for interesting features, whether it's looking at differences in feature maps from images with or without a sign, or even what feature maps look like in a trained network vs a completely untrained one on the same sign image.\n",
    "\n",
    "<figure>\n",
    " <img src=\"visualize_cnn.png\" width=\"380\" alt=\"Combined Image\" />\n",
    " <figcaption>\n",
    " <p></p> \n",
    " <p style=\"text-align: center;\"> Your output should look something like this (above)</p> \n",
    " </figcaption>\n",
    "</figure>\n",
    " <p></p> \n"
   ]
  },
  {
   "cell_type": "code",
   "execution_count": null,
   "metadata": {},
   "outputs": [],
   "source": [
    "### Visualize your network's feature maps here.\n",
    "### Feel free to use as many code cells as needed.\n",
    "\n",
    "# image_input: the test image being fed into the network to produce the feature maps\n",
    "# tf_activation: should be a tf variable name used during your training procedure that represents the calculated state of a specific weight layer\n",
    "# activation_min/max: can be used to view the activation contrast in more detail, by default matplot sets min and max to the actual min and max values of the output\n",
    "# plt_num: used to plot out multiple different weight feature map sets on the same block, just extend the plt number for each new feature map entry\n",
    "\n",
    "def outputFeatureMap(image_input, tf_activation, activation_min=-1, activation_max=-1 ,plt_num=1):\n",
    "    # Here make sure to preprocess your image_input in a way your network expects\n",
    "    # with size, normalization, ect if needed\n",
    "    # image_input =\n",
    "    # Note: x should be the same name as your network's tensorflow data placeholder variable\n",
    "    # If you get an error tf_activation is not defined it may be having trouble accessing the variable from inside a function\n",
    "    activation = tf_activation.eval(session=sess,feed_dict={x : image_input})\n",
    "    featuremaps = activation.shape[3]\n",
    "    plt.figure(plt_num, figsize=(15,15))\n",
    "    for featuremap in range(featuremaps):\n",
    "        plt.subplot(6,8, featuremap+1) # sets the number of feature maps to show on each row and column\n",
    "        plt.title('FeatureMap ' + str(featuremap)) # displays the feature map number\n",
    "        if activation_min != -1 & activation_max != -1:\n",
    "            plt.imshow(activation[0,:,:, featuremap], interpolation=\"nearest\", vmin =activation_min, vmax=activation_max, cmap=\"gray\")\n",
    "        elif activation_max != -1:\n",
    "            plt.imshow(activation[0,:,:, featuremap], interpolation=\"nearest\", vmax=activation_max, cmap=\"gray\")\n",
    "        elif activation_min !=-1:\n",
    "            plt.imshow(activation[0,:,:, featuremap], interpolation=\"nearest\", vmin=activation_min, cmap=\"gray\")\n",
    "        else:\n",
    "            plt.imshow(activation[0,:,:, featuremap], interpolation=\"nearest\", cmap=\"gray\")"
   ]
  }
 ],
 "metadata": {
  "anaconda-cloud": {},
  "kernelspec": {
   "display_name": "Python 3",
   "language": "python",
   "name": "python3"
  },
  "language_info": {
   "codemirror_mode": {
    "name": "ipython",
    "version": 3
   },
   "file_extension": ".py",
   "mimetype": "text/x-python",
   "name": "python",
   "nbconvert_exporter": "python",
   "pygments_lexer": "ipython3",
   "version": "3.6.3"
  }
 },
 "nbformat": 4,
 "nbformat_minor": 1
}
